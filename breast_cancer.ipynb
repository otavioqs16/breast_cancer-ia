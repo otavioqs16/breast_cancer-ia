{
  "nbformat": 4,
  "nbformat_minor": 0,
  "metadata": {
    "colab": {
      "name": "breast_cancer.ipynb",
      "provenance": [],
      "collapsed_sections": [],
      "include_colab_link": true
    },
    "kernelspec": {
      "name": "python3",
      "display_name": "Python 3"
    }
  },
  "cells": [
    {
      "cell_type": "markdown",
      "metadata": {
        "id": "view-in-github",
        "colab_type": "text"
      },
      "source": [
        "<a href=\"https://colab.research.google.com/github/otavioqs16/breast_cancer-ia/blob/main/breast_cancer.ipynb\" target=\"_parent\"><img src=\"https://colab.research.google.com/assets/colab-badge.svg\" alt=\"Open In Colab\"/></a>"
      ]
    },
    {
      "cell_type": "code",
      "metadata": {
        "id": "3_bsKo6S8UQ3"
      },
      "source": [
        "import torch\n",
        "import numpy as np"
      ],
      "execution_count": 40,
      "outputs": []
    },
    {
      "cell_type": "code",
      "metadata": {
        "id": "zXp_DKVv8kyL"
      },
      "source": [
        "class Net(torch.nn.Module):\n",
        "    def __init__(self, input_size, hidden_size):\n",
        "        super(Net, self).__init__()\n",
        "        self.input_size = input_size\n",
        "        self.hidden_size = hidden_size\n",
        "        self.fc1 = torch.nn.Linear(self.input_size, self.hidden_size)\n",
        "        self.relu = torch.nn.ReLU()\n",
        "        self.fc2 = torch.nn.Linear(self.hidden_size, 1)\n",
        "        self.sigmoid = torch.nn.Sigmoid() \n",
        "    def forward(self, x):\n",
        "        hidden = self.fc1(x)\n",
        "        relu = self.relu(hidden)\n",
        "        output = self.fc2(relu)\n",
        "        output = self.sigmoid(output)\n",
        "        return output"
      ],
      "execution_count": 41,
      "outputs": []
    },
    {
      "cell_type": "code",
      "metadata": {
        "id": "SJGnBqk18wHj"
      },
      "source": [
        "from sklearn import datasets"
      ],
      "execution_count": 42,
      "outputs": []
    },
    {
      "cell_type": "code",
      "metadata": {
        "id": "6FBoGA0V9BTv"
      },
      "source": [
        "breast_cancer = datasets.load_breast_cancer()\n",
        "print(breast_cancer)"
      ],
      "execution_count": null,
      "outputs": []
    },
    {
      "cell_type": "code",
      "metadata": {
        "id": "eiDtY3tH-qCa"
      },
      "source": [
        "dados = breast_cancer.data\n",
        "classes = breast_cancer.target\n",
        "nome_classes = breast_cancer.target_names\n",
        "print(dados)\n",
        "print(classes)\n",
        "print(nome_classes)"
      ],
      "execution_count": null,
      "outputs": []
    },
    {
      "cell_type": "code",
      "metadata": {
        "id": "6cNRGhBN__AC"
      },
      "source": [
        "print(dados.shape)\n",
        "for i in range(len(dados[1])):\n",
        "  print(np.max(dados[i]))\n",
        "  max = np.max(dados[i])\n",
        "  if max < 10:\n",
        "    dados[i] /= 10\n",
        "  elif max < 100:\n",
        "    dados[i] /= 100\n",
        "  elif max < 1000:\n",
        "    dados[i] /= 1000\n",
        "  else:\n",
        "    dados[i] /= 10000\n",
        "for i in range(len(dados[1])):\n",
        "  print(np.max(dados[i]))\n"
      ],
      "execution_count": null,
      "outputs": []
    },
    {
      "cell_type": "code",
      "metadata": {
        "id": "sKauQUKS-7GQ"
      },
      "source": [
        "from sklearn.utils import shuffle\n",
        "x = dados\n",
        "y = classes\n",
        "x, y = shuffle(x, y)\n",
        "print(x, y)"
      ],
      "execution_count": null,
      "outputs": []
    },
    {
      "cell_type": "code",
      "metadata": {
        "id": "z-xL8nK2ADzK"
      },
      "source": [
        "training_input = torch.FloatTensor(x[0:500, :])\n",
        "training_output = torch.FloatTensor(y[0:500])\n",
        "test_input = torch.FloatTensor(x[500:, :])\n",
        "test_output = torch.FloatTensor(y[500:])\n",
        "print(test_output.size())\n",
        "print(test_input.size())\n",
        "print(training_input)\n",
        "print(training_output)\n",
        "print(test_input)\n",
        "print(test_output)"
      ],
      "execution_count": null,
      "outputs": []
    },
    {
      "cell_type": "code",
      "metadata": {
        "id": "BPuQMAtvBE41"
      },
      "source": [
        "input_size = training_input.size()[1]\n",
        "hidden_size = 2\n",
        "model = Net(input_size, hidden_size)\n",
        "#print(model)\n",
        "for param in model.parameters():\n",
        "  #print(param)\n",
        "  pass"
      ],
      "execution_count": 48,
      "outputs": []
    },
    {
      "cell_type": "code",
      "metadata": {
        "id": "0shCzd1HB5FR"
      },
      "source": [
        "#Preparando o treinamento\n",
        "criterion = torch.nn.MSELoss() #Mean Square Error Loss (saida_real - saida_prevista)^2\n",
        "optimizer = torch.optim.SGD(model.parameters(), lr = 0.001)\n",
        "\n",
        "#Avaliar o erro inicial da rede\n",
        "model.eval() # roda a rede mas sem atualizar os pesos\n",
        "y_pred = model(test_input)\n",
        "before_train = criterion(y_pred.squeeze(), test_output)\n",
        "#[100,] --> [100]\n",
        "print(f'Erro antes do treinamento: {before_train.item()}')"
      ],
      "execution_count": null,
      "outputs": []
    },
    {
      "cell_type": "code",
      "metadata": {
        "id": "jlB4z8ICDHZh"
      },
      "source": [
        "#Treinamento da rede\n",
        "model.train()\n",
        "epochs = 400001\n",
        "errors = []\n",
        "for epoch in range(epochs):\n",
        "  optimizer.zero_grad()\n",
        "  #fazer o forward da minha rede\n",
        "  y_pred = model(training_input)\n",
        "  #calcula o erro desse treinamento\n",
        "  loss = criterion(y_pred.squeeze(), training_output)\n",
        "  errors.append(loss.item())\n",
        "  if epoch % 1000 == 0:\n",
        "    print(f'Epoch: {epoch}. Train loss: {loss.item()}')\n",
        "  #backpropagation\n",
        "  loss.backward()\n",
        "  optimizer.step()"
      ],
      "execution_count": null,
      "outputs": []
    },
    {
      "cell_type": "code",
      "metadata": {
        "id": "gSiuQDg2DcFE"
      },
      "source": [
        "#Avaliar o erro pós treinamento da rede\n",
        "model.eval() # roda a rede mas sem atualizar os pesos\n",
        "y_pred = model(test_input)\n",
        "after_train = criterion(y_pred.squeeze(), test_output)\n",
        "print(f'Erro pós-treinamento: {after_train.item()}')"
      ],
      "execution_count": null,
      "outputs": []
    },
    {
      "cell_type": "code",
      "metadata": {
        "id": "DK2S5aDvDmaw"
      },
      "source": [
        "import matplotlib.pyplot as plt\n",
        "import numpy as np"
      ],
      "execution_count": 52,
      "outputs": []
    },
    {
      "cell_type": "code",
      "metadata": {
        "id": "E-pQXeihDo50"
      },
      "source": [
        "def plotcharts(errors):\n",
        "    errors = np.array(errors)\n",
        "    plt.figure(figsize=(12, 5))\n",
        "    graf02 = plt.subplot(1, 2, 1) # nrows, ncols, index\n",
        "    graf02.set_title('Errors')\n",
        "    plt.plot(errors, '-')\n",
        "    plt.xlabel('Epochs')\n",
        "    graf03 = plt.subplot(1, 2, 2)\n",
        "    graf03.set_title('Tests')\n",
        "    a = plt.plot(test_output.numpy(), 'yo', label='Real')\n",
        "    plt.setp(a, markersize=10)\n",
        "    a = plt.plot(y_pred.detach().numpy(), 'b+', label='Predicted')\n",
        "    plt.setp(a, markersize=10)\n",
        "    plt.legend(loc=7)\n",
        "    plt.show()\n",
        "plotcharts(errors)"
      ],
      "execution_count": null,
      "outputs": []
    }
  ]
}